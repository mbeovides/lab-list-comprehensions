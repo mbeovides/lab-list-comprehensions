{
 "cells": [
  {
   "cell_type": "code",
   "execution_count": 2,
   "id": "d7d7afc6",
   "metadata": {},
   "outputs": [
    {
     "data": {
      "text/html": [
       "<div>\n",
       "<style scoped>\n",
       "    .dataframe tbody tr th:only-of-type {\n",
       "        vertical-align: middle;\n",
       "    }\n",
       "\n",
       "    .dataframe tbody tr th {\n",
       "        vertical-align: top;\n",
       "    }\n",
       "\n",
       "    .dataframe thead th {\n",
       "        text-align: right;\n",
       "    }\n",
       "</style>\n",
       "<table border=\"1\" class=\"dataframe\">\n",
       "  <thead>\n",
       "    <tr style=\"text-align: right;\">\n",
       "      <th></th>\n",
       "      <th>example</th>\n",
       "    </tr>\n",
       "  </thead>\n",
       "  <tbody>\n",
       "    <tr>\n",
       "      <th>0</th>\n",
       "      <td>1</td>\n",
       "    </tr>\n",
       "    <tr>\n",
       "      <th>1</th>\n",
       "      <td>2</td>\n",
       "    </tr>\n",
       "    <tr>\n",
       "      <th>2</th>\n",
       "      <td>3</td>\n",
       "    </tr>\n",
       "    <tr>\n",
       "      <th>3</th>\n",
       "      <td>4</td>\n",
       "    </tr>\n",
       "  </tbody>\n",
       "</table>\n",
       "</div>"
      ],
      "text/plain": [
       "   example\n",
       "0        1\n",
       "1        2\n",
       "2        3\n",
       "3        4"
      ]
     },
     "execution_count": 2,
     "metadata": {},
     "output_type": "execute_result"
    }
   ],
   "source": [
    "import pandas as pd\n",
    "\n",
    "## this is a library --> a box of toolboxes (objects/classes) --- each of them has their own attributes /methods \n",
    "\n",
    "my_dataframe = pd.DataFrame([1,2,3,4], columns=[\"example\"])\n",
    "my_dataframe"
   ]
  },
  {
   "cell_type": "code",
   "execution_count": 3,
   "id": "3d16e476",
   "metadata": {},
   "outputs": [
    {
     "data": {
      "text/plain": [
       "pandas.core.frame.DataFrame"
      ]
     },
     "execution_count": 3,
     "metadata": {},
     "output_type": "execute_result"
    }
   ],
   "source": [
    "type(my_dataframe)"
   ]
  },
  {
   "cell_type": "code",
   "execution_count": 5,
   "id": "29601929",
   "metadata": {},
   "outputs": [],
   "source": [
    "class Employee():\n",
    "    \n",
    "    # a class has attributes (variable thar are defined inside the class)\n",
    "    \n",
    "    name = \"Jose\"\n",
    "    age = 499\n",
    "    idd = \"a709232\"\n",
    "    email = \"jose.pereira@ironhack.com\"\n",
    "    phone = 982398123\n",
    "    role = \"Data Analytics Teacher\"\n",
    "    \n",
    "    \n",
    "    def cool_method(self):\n",
    "        print(\"I am cool method\")\n",
    "\n",
    "    "
   ]
  },
  {
   "cell_type": "code",
   "execution_count": 8,
   "id": "be57364f",
   "metadata": {},
   "outputs": [],
   "source": [
    "emp1 = Employee()"
   ]
  },
  {
   "cell_type": "code",
   "execution_count": 9,
   "id": "c313f8ef",
   "metadata": {},
   "outputs": [
    {
     "data": {
      "text/plain": [
       "'jose.pereira@ironhack.com'"
      ]
     },
     "execution_count": 9,
     "metadata": {},
     "output_type": "execute_result"
    }
   ],
   "source": [
    "## use the class we created\n",
    "\n",
    "emp1.email"
   ]
  },
  {
   "cell_type": "code",
   "execution_count": 10,
   "id": "03976338",
   "metadata": {},
   "outputs": [
    {
     "data": {
      "text/plain": [
       "'a709232'"
      ]
     },
     "execution_count": 10,
     "metadata": {},
     "output_type": "execute_result"
    }
   ],
   "source": [
    "emp1.idd"
   ]
  },
  {
   "cell_type": "code",
   "execution_count": 11,
   "id": "6e6e31e7",
   "metadata": {},
   "outputs": [
    {
     "data": {
      "text/plain": [
       "'Data Analytics Teacher'"
      ]
     },
     "execution_count": 11,
     "metadata": {},
     "output_type": "execute_result"
    }
   ],
   "source": [
    "emp1.role"
   ]
  },
  {
   "cell_type": "code",
   "execution_count": 12,
   "id": "c26ea3c5",
   "metadata": {},
   "outputs": [],
   "source": [
    "emp1.idd = \"87541654643\""
   ]
  },
  {
   "cell_type": "code",
   "execution_count": 13,
   "id": "b54ca27b",
   "metadata": {},
   "outputs": [
    {
     "data": {
      "text/plain": [
       "'87541654643'"
      ]
     },
     "execution_count": 13,
     "metadata": {},
     "output_type": "execute_result"
    }
   ],
   "source": [
    "emp1.idd\n"
   ]
  },
  {
   "cell_type": "code",
   "execution_count": 34,
   "id": "7ba5348d",
   "metadata": {},
   "outputs": [],
   "source": [
    "## isn´t there a way to create class, without defining/hard coding\n",
    "## the attributes\n",
    "\n",
    "class Employee2():\n",
    "    def __init__(self, name, age, idd, email, phone, role):\n",
    "        self.name = name\n",
    "        self.age = age\n",
    "        self.idd = idd\n",
    "        self.phone = phone\n",
    "        self.email = email\n",
    "        self.role = role\n",
    "        \n",
    "        ### self is a universal variable that referes to the object itself\n",
    "        \n",
    "        \n",
    "    def cool_method(self):\n",
    "        print(\"Hello my name is\" + self.name)\n",
    "\n",
    "    def call_employee(self):\n",
    "        print(\"You can call me at\" +str(self.phone))\n",
    "\n"
   ]
  },
  {
   "cell_type": "code",
   "execution_count": 36,
   "id": "638a40eb",
   "metadata": {},
   "outputs": [],
   "source": [
    "emp2 = Employee2(name=\"Bilbo Baggins\", age=227, idd = 0, email = \"bilbo.baggins@shireimportexport.com\", phone=1111, role=\"ring steler\")\n",
    "emp3 = Employee2(name=\"Frodo Baggins\", age=112, idd = 1, email = \"frodo.baggins@shireimportexport.com\", phone=2222, role=\"ring porter\")"
   ]
  },
  {
   "cell_type": "code",
   "execution_count": 29,
   "id": "bc7adc26",
   "metadata": {},
   "outputs": [
    {
     "data": {
      "text/plain": [
       "112"
      ]
     },
     "execution_count": 29,
     "metadata": {},
     "output_type": "execute_result"
    }
   ],
   "source": [
    "emp3.age"
   ]
  },
  {
   "cell_type": "code",
   "execution_count": 37,
   "id": "6111cf12",
   "metadata": {},
   "outputs": [
    {
     "data": {
      "text/plain": [
       "'frodo.baggins@shireimportexport.com'"
      ]
     },
     "execution_count": 37,
     "metadata": {},
     "output_type": "execute_result"
    }
   ],
   "source": [
    "emp3.email"
   ]
  },
  {
   "cell_type": "code",
   "execution_count": null,
   "id": "1b7ddcf9",
   "metadata": {},
   "outputs": [],
   "source": []
  },
  {
   "cell_type": "code",
   "execution_count": null,
   "id": "e0d6e488",
   "metadata": {},
   "outputs": [],
   "source": []
  },
  {
   "cell_type": "code",
   "execution_count": null,
   "id": "01ab3872",
   "metadata": {},
   "outputs": [],
   "source": []
  },
  {
   "cell_type": "markdown",
   "id": "4b9b405d",
   "metadata": {},
   "source": []
  },
  {
   "cell_type": "markdown",
   "id": "0cbabaf5",
   "metadata": {},
   "source": []
  }
 ],
 "metadata": {
  "kernelspec": {
   "display_name": "Python 3 (ipykernel)",
   "language": "python",
   "name": "python3"
  },
  "language_info": {
   "codemirror_mode": {
    "name": "ipython",
    "version": 3
   },
   "file_extension": ".py",
   "mimetype": "text/x-python",
   "name": "python",
   "nbconvert_exporter": "python",
   "pygments_lexer": "ipython3",
   "version": "3.9.7"
  }
 },
 "nbformat": 4,
 "nbformat_minor": 5
}
